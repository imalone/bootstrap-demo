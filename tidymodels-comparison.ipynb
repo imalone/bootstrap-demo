{
 "cells": [
  {
   "cell_type": "code",
   "execution_count": 1,
   "metadata": {},
   "outputs": [
    {
     "data": {
      "text/html": [
       "<table>\n",
       "<caption>A df[,3]: 6 x 3</caption>\n",
       "<thead>\n",
       "\t<tr><th></th><th scope=col>man</th><th scope=col>fs5</th><th scope=col>spm12_mwc</th></tr>\n",
       "\t<tr><th></th><th scope=col>&lt;dbl&gt;</th><th scope=col>&lt;dbl&gt;</th><th scope=col>&lt;dbl&gt;</th></tr>\n",
       "</thead>\n",
       "<tbody>\n",
       "\t<tr><th scope=row>3</th><td>1345.541</td><td>1497.891</td><td>1353.598</td></tr>\n",
       "\t<tr><th scope=row>4</th><td>1381.081</td><td>1436.819</td><td>1359.308</td></tr>\n",
       "\t<tr><th scope=row>5</th><td>1285.623</td><td>1268.764</td><td>1265.084</td></tr>\n",
       "\t<tr><th scope=row>6</th><td>1574.595</td><td>1680.504</td><td>1557.601</td></tr>\n",
       "\t<tr><th scope=row>7</th><td>1182.910</td><td>1172.865</td><td>1170.121</td></tr>\n",
       "\t<tr><th scope=row>8</th><td>1408.842</td><td>1500.151</td><td>1391.574</td></tr>\n",
       "</tbody>\n",
       "</table>\n"
      ],
      "text/latex": [
       "A df[,3]: 6 x 3\n",
       "\\begin{tabular}{r|lll}\n",
       "  & man & fs5 & spm12\\_mwc\\\\\n",
       "  & <dbl> & <dbl> & <dbl>\\\\\n",
       "\\hline\n",
       "\t3 & 1345.541 & 1497.891 & 1353.598\\\\\n",
       "\t4 & 1381.081 & 1436.819 & 1359.308\\\\\n",
       "\t5 & 1285.623 & 1268.764 & 1265.084\\\\\n",
       "\t6 & 1574.595 & 1680.504 & 1557.601\\\\\n",
       "\t7 & 1182.910 & 1172.865 & 1170.121\\\\\n",
       "\t8 & 1408.842 & 1500.151 & 1391.574\\\\\n",
       "\\end{tabular}\n"
      ],
      "text/markdown": [
       "\n",
       "A df[,3]: 6 x 3\n",
       "\n",
       "| <!--/--> | man &lt;dbl&gt; | fs5 &lt;dbl&gt; | spm12_mwc &lt;dbl&gt; |\n",
       "|---|---|---|---|\n",
       "| 3 | 1345.541 | 1497.891 | 1353.598 |\n",
       "| 4 | 1381.081 | 1436.819 | 1359.308 |\n",
       "| 5 | 1285.623 | 1268.764 | 1265.084 |\n",
       "| 6 | 1574.595 | 1680.504 | 1557.601 |\n",
       "| 7 | 1182.910 | 1172.865 | 1170.121 |\n",
       "| 8 | 1408.842 | 1500.151 | 1391.574 |\n",
       "\n"
      ],
      "text/plain": [
       "  man      fs5      spm12_mwc\n",
       "3 1345.541 1497.891 1353.598 \n",
       "4 1381.081 1436.819 1359.308 \n",
       "5 1285.623 1268.764 1265.084 \n",
       "6 1574.595 1680.504 1557.601 \n",
       "7 1182.910 1172.865 1170.121 \n",
       "8 1408.842 1500.151 1391.574 "
      ]
     },
     "metadata": {},
     "output_type": "display_data"
    }
   ],
   "source": [
    "suppressPackageStartupMessages({\n",
    "    library(foreign) # reading stata dataset\n",
    "    library(dplyr)# table manipulation\n",
    "    })\n",
    "# read the TIV data\n",
    "mydata <- read.dta(\"comparison_TIV_all_resp_2.dta\")\n",
    "mydata <- filter(mydata,!is.na(man)) %>% select(man,fs5,spm12_mwc)\n",
    "head(mydata)"
   ]
  },
  {
   "cell_type": "code",
   "execution_count": 2,
   "metadata": {},
   "outputs": [
    {
     "name": "stdout",
     "output_type": "stream",
     "text": [
      "\n",
      "Call:\n",
      "lm(formula = spm12_mwc ~ man, data = mydata)\n",
      "\n",
      "Coefficients:\n",
      "(Intercept)          man  \n",
      "     1.5103       0.9707  \n",
      "\n"
     ]
    },
    {
     "data": {
      "text/html": [
       "'Rsquared=0.940316'"
      ],
      "text/latex": [
       "'Rsquared=0.940316'"
      ],
      "text/markdown": [
       "'Rsquared=0.940316'"
      ],
      "text/plain": [
       "[1] \"Rsquared=0.940316\""
      ]
     },
     "metadata": {},
     "output_type": "display_data"
    },
    {
     "name": "stdout",
     "output_type": "stream",
     "text": [
      "\n",
      "Call:\n",
      "lm(formula = fs5 ~ man, data = mydata)\n",
      "\n",
      "Coefficients:\n",
      "(Intercept)          man  \n",
      "   -345.260        1.289  \n",
      "\n"
     ]
    },
    {
     "data": {
      "text/html": [
       "'Rsquared=0.460257'"
      ],
      "text/latex": [
       "'Rsquared=0.460257'"
      ],
      "text/markdown": [
       "'Rsquared=0.460257'"
      ],
      "text/plain": [
       "[1] \"Rsquared=0.460257\""
      ]
     },
     "metadata": {},
     "output_type": "display_data"
    }
   ],
   "source": [
    "model.mwc <- lm(spm12_mwc~man,mydata) # linear model\n",
    "print(model.mwc)\n",
    "sprintf(\"Rsquared=%f\",summary(model.mwc)$r.squared) # Don't want all of summary\n",
    "model.fs5 <- lm(fs5~man, mydata)\n",
    "print(model.fs5)\n",
    "sprintf(\"Rsquared=%f\",summary(model.fs5)$r.squared)"
   ]
  },
  {
   "cell_type": "code",
   "execution_count": 3,
   "metadata": {},
   "outputs": [],
   "source": [
    "mycleandata <- filter(mydata, fs5<3000)"
   ]
  },
  {
   "cell_type": "code",
   "execution_count": 4,
   "metadata": {},
   "outputs": [],
   "source": [
    "library(broom)\n",
    "library(purrr)\n",
    "library(tibble)\n",
    "library(rsample)\n",
    "library(boot)"
   ]
  },
  {
   "cell_type": "markdown",
   "metadata": {},
   "source": [
    "The familiar statistic function as required by `boot` takes a data frame and sampling indices (or weights) and returns a value or values:"
   ]
  },
  {
   "cell_type": "code",
   "execution_count": 5,
   "metadata": {},
   "outputs": [],
   "source": [
    "# required arguments of boot: function (data, statistic, R)\n",
    "# data : data frame to sample from\n",
    "# statistic : function that calculates the statistic or statistics to bootstrap\n",
    "# R : number of repetitions\n",
    "diffR2 <- function(thisdata, set){\n",
    "    model.mwc <- lm(spm12_mwc~man,thisdata[set,])\n",
    "    model.fs5 <- lm(fs5~man, thisdata[set,])\n",
    "    # By default R functions return the last value:\n",
    "    summary(model.mwc)$r.squared - summary(model.fs5)$r.squared\n",
    "}"
   ]
  },
  {
   "cell_type": "markdown",
   "metadata": {},
   "source": [
    "The estimator for `rsamples`'s `bootstraps` function takes the permuted data and returns a tibble which contains at least the name and the estimate for each value to bootstrap:"
   ]
  },
  {
   "cell_type": "code",
   "execution_count": 6,
   "metadata": {},
   "outputs": [],
   "source": [
    "diffR2est <- function(thisdata, ...){\n",
    "    model.mwc <- lm(spm12_mwc~man,analysis(thisdata))\n",
    "    model.fs5 <- lm(fs5~man, analysis(thisdata))\n",
    "    # By default R functions return the last value:\n",
    "    tibble(\n",
    "        term=\"r2diff\",\n",
    "        estimate = (summary(model.mwc)$r.squared - summary(model.fs5)$r.squared),\n",
    "        std.err = NA_real_\n",
    "        )\n",
    "}\n"
   ]
  },
  {
   "cell_type": "markdown",
   "metadata": {},
   "source": [
    "Using `apparent=TRUE` means the sample value is also calculated, which is required for the BCa confidence interval and some other results. Unlike `boot` the value is combined with the others rather than kept separate, which makes it not as simple to use the outputs directly ourselves."
   ]
  },
  {
   "cell_type": "code",
   "execution_count": 7,
   "metadata": {},
   "outputs": [
    {
     "data": {
      "text/plain": [
       "   user  system elapsed \n",
       " 47.824   0.113  48.626 "
      ]
     },
     "metadata": {},
     "output_type": "display_data"
    },
    {
     "data": {
      "text/plain": [
       "   user  system elapsed \n",
       " 29.680   0.034  30.191 "
      ]
     },
     "metadata": {},
     "output_type": "display_data"
    }
   ],
   "source": [
    "system.time(r2_rs <- bootstraps(mycleandata, 10000, apparent=TRUE) %>% mutate(results=map(splits,diffR2est)))\n",
    "system.time(r2_boot <- boot(mycleandata, diffR2, 10000))"
   ]
  },
  {
   "cell_type": "markdown",
   "metadata": {},
   "source": [
    "There's a separate function for each interval type. The `int_bca` function needs the statistic function specified again to use for Jacknife calculation."
   ]
  },
  {
   "cell_type": "code",
   "execution_count": 8,
   "metadata": {},
   "outputs": [
    {
     "data": {
      "text/plain": [
       "   user  system elapsed \n",
       "  2.006   0.004   2.039 "
      ]
     },
     "metadata": {},
     "output_type": "display_data"
    },
    {
     "data": {
      "text/html": [
       "<table>\n",
       "<caption>A tibble: 1 x 6</caption>\n",
       "<thead>\n",
       "\t<tr><th scope=col>term</th><th scope=col>.lower</th><th scope=col>.estimate</th><th scope=col>.upper</th><th scope=col>.alpha</th><th scope=col>.method</th></tr>\n",
       "\t<tr><th scope=col>&lt;chr&gt;</th><th scope=col>&lt;dbl&gt;</th><th scope=col>&lt;dbl&gt;</th><th scope=col>&lt;dbl&gt;</th><th scope=col>&lt;dbl&gt;</th><th scope=col>&lt;chr&gt;</th></tr>\n",
       "</thead>\n",
       "<tbody>\n",
       "\t<tr><td>r2diff</td><td>0.1012661</td><td>0.1394052</td><td>0.194272</td><td>0.05</td><td>BCa</td></tr>\n",
       "</tbody>\n",
       "</table>\n"
      ],
      "text/latex": [
       "A tibble: 1 x 6\n",
       "\\begin{tabular}{r|llllll}\n",
       " term & .lower & .estimate & .upper & .alpha & .method\\\\\n",
       " <chr> & <dbl> & <dbl> & <dbl> & <dbl> & <chr>\\\\\n",
       "\\hline\n",
       "\t r2diff & 0.1012661 & 0.1394052 & 0.194272 & 0.05 & BCa\\\\\n",
       "\\end{tabular}\n"
      ],
      "text/markdown": [
       "\n",
       "A tibble: 1 x 6\n",
       "\n",
       "| term &lt;chr&gt; | .lower &lt;dbl&gt; | .estimate &lt;dbl&gt; | .upper &lt;dbl&gt; | .alpha &lt;dbl&gt; | .method &lt;chr&gt; |\n",
       "|---|---|---|---|---|---|\n",
       "| r2diff | 0.1012661 | 0.1394052 | 0.194272 | 0.05 | BCa |\n",
       "\n"
      ],
      "text/plain": [
       "  term   .lower    .estimate .upper   .alpha .method\n",
       "1 r2diff 0.1012661 0.1394052 0.194272 0.05   BCa    "
      ]
     },
     "metadata": {},
     "output_type": "display_data"
    }
   ],
   "source": [
    "system.time(r2_bca<-int_bca(r2_rs,results, .fn=diffR2est))\n",
    "r2_bca"
   ]
  },
  {
   "cell_type": "markdown",
   "metadata": {},
   "source": [
    "`rsample` only knows how to do Jacknife, which in this case is a bit faster than the `boot` package's default approach."
   ]
  },
  {
   "cell_type": "code",
   "execution_count": 9,
   "metadata": {},
   "outputs": [
    {
     "data": {
      "text/plain": [
       "   user  system elapsed \n",
       "  2.483   0.103   2.646 "
      ]
     },
     "metadata": {},
     "output_type": "display_data"
    },
    {
     "data": {
      "text/plain": [
       "BOOTSTRAP CONFIDENCE INTERVAL CALCULATIONS\n",
       "Based on 10000 bootstrap replicates\n",
       "\n",
       "CALL : \n",
       "boot.ci(boot.out = r2_boot, type = \"bca\")\n",
       "\n",
       "Intervals : \n",
       "Level       BCa          \n",
       "95%   ( 0.1008,  0.1935 )  \n",
       "Calculations and Intervals on Original Scale"
      ]
     },
     "metadata": {},
     "output_type": "display_data"
    }
   ],
   "source": [
    "system.time(mydataci <- boot.ci(r2_boot,type=\"bca\"))\n",
    "mydataci"
   ]
  },
  {
   "cell_type": "markdown",
   "metadata": {},
   "source": [
    "We can speed the `boot` package up in this case by also using Jacknife."
   ]
  },
  {
   "cell_type": "code",
   "execution_count": 10,
   "metadata": {},
   "outputs": [
    {
     "data": {
      "text/plain": [
       "   user  system elapsed \n",
       "  0.747   0.000   0.752 "
      ]
     },
     "metadata": {},
     "output_type": "display_data"
    },
    {
     "data": {
      "text/html": [
       "<table>\n",
       "<caption>A matrix: 1 x 5 of type dbl[,5]</caption>\n",
       "<thead>\n",
       "\t<tr><th scope=col>conf</th><th scope=col></th><th scope=col></th><th scope=col></th><th scope=col></th></tr>\n",
       "</thead>\n",
       "<tbody>\n",
       "\t<tr><td>0.95</td><td>384.22</td><td>9854.15</td><td>0.1007959</td><td>0.1936759</td></tr>\n",
       "</tbody>\n",
       "</table>\n"
      ],
      "text/latex": [
       "A matrix: 1 x 5 of type dbl{[},5{]}\n",
       "\\begin{tabular}{lllll}\n",
       " conf &  &  &  & \\\\\n",
       "\\hline\n",
       "\t 0.95 & 384.22 & 9854.15 & 0.1007959 & 0.1936759\\\\\n",
       "\\end{tabular}\n"
      ],
      "text/markdown": [
       "\n",
       "A matrix: 1 x 5 of type dbl[,5]\n",
       "\n",
       "| conf | <!----> | <!----> | <!----> | <!----> |\n",
       "|---|---|---|---|---|\n",
       "| 0.95 | 384.22 | 9854.15 | 0.1007959 | 0.1936759 |\n",
       "\n"
      ],
      "text/plain": [
       "     conf                                   \n",
       "[1,] 0.95 384.22 9854.15 0.1007959 0.1936759"
      ]
     },
     "metadata": {},
     "output_type": "display_data"
    }
   ],
   "source": [
    "boot.ci.jack <- function(boot.out,type=\"bca\") {\n",
    "    boot.ci(boot.out=boot.out, type=type, L=empinf(boot.out=boot.out,type=\"jack\"))\n",
    "}\n",
    "system.time(mydatacijack <- boot.ci.jack(r2_boot))\n",
    "mydatacijack$bca"
   ]
  },
  {
   "cell_type": "markdown",
   "metadata": {},
   "source": [
    "Using `rsample` for the stratification problem:"
   ]
  },
  {
   "cell_type": "code",
   "execution_count": 11,
   "metadata": {},
   "outputs": [
    {
     "name": "stdout",
     "output_type": "stream",
     "text": [
      "[1] \"9.30232558139535\" \"90.6976744186046\"\n"
     ]
    }
   ],
   "source": [
    "# Risk ratio :\n",
    "armsize <- 14000\n",
    "inf.vacc <- 8\n",
    "inf.plac <- 86\n",
    "rr <- (inf.vacc/armsize) / (inf.plac/armsize)\n",
    "effic <- 1-rr\n",
    "print(paste(100*c(rr, effic)))"
   ]
  },
  {
   "cell_type": "code",
   "execution_count": 12,
   "metadata": {},
   "outputs": [],
   "source": [
    "smallarm <- 1000\n"
   ]
  },
  {
   "cell_type": "code",
   "execution_count": 13,
   "metadata": {},
   "outputs": [
    {
     "data": {
      "text/plain": [
       "       group\n",
       "outcome   0   1\n",
       "      0 914 992\n",
       "      1  86   8"
      ]
     },
     "metadata": {},
     "output_type": "display_data"
    }
   ],
   "source": [
    "vacctrial <- data.frame(outcome=c(rep(1,inf.plac),rep(0,smallarm-inf.plac),rep(1,inf.vacc),rep(0,smallarm-inf.vacc)), group=c(rep(0,smallarm),rep(1,smallarm)))\n",
    "table(vacctrial)"
   ]
  },
  {
   "cell_type": "code",
   "execution_count": 14,
   "metadata": {},
   "outputs": [
    {
     "data": {
      "text/html": [
       "0.906976744186046"
      ],
      "text/latex": [
       "0.906976744186046"
      ],
      "text/markdown": [
       "0.906976744186046"
      ],
      "text/plain": [
       "[1] 0.9069767"
      ]
     },
     "metadata": {},
     "output_type": "display_data"
    }
   ],
   "source": [
    "effrate <- function(d,set) {\n",
    "   samp <- d[set,]\n",
    "   place <- samp[samp$group==0,]\n",
    "   treat <- samp[samp$group==1,]\n",
    "   effrate <- 1 - (sum(treat$outcome)/nrow(treat))/(sum(place$outcome)/nrow(place))\n",
    "   effrate\n",
    " }\n",
    "effrate(vacctrial)"
   ]
  },
  {
   "cell_type": "code",
   "execution_count": 15,
   "metadata": {},
   "outputs": [],
   "source": [
    "effrate_est <- function(d,...){\n",
    "   samp <- analysis(d)\n",
    "   place <- samp[samp$group==0,]\n",
    "   treat <- samp[samp$group==1,]\n",
    "   effrate <- 1 - (sum(treat$outcome)/nrow(treat))/(sum(place$outcome)/nrow(place))\n",
    "   tibble(\n",
    "       term=\"eff\",\n",
    "       estimate=effrate,\n",
    "       std.err=NA_real_\n",
    "       )\n",
    "}"
   ]
  },
  {
   "cell_type": "markdown",
   "metadata": {},
   "source": [
    "Using `boot` (single threaded):"
   ]
  },
  {
   "cell_type": "code",
   "execution_count": 16,
   "metadata": {},
   "outputs": [
    {
     "data": {
      "text/plain": [
       "   user  system elapsed \n",
       " 16.824   0.185  17.128 "
      ]
     },
     "metadata": {},
     "output_type": "display_data"
    }
   ],
   "source": [
    "system.time(boot.risk.10000 <- boot(vacctrial,effrate, 10000, strata=vacctrial$group))"
   ]
  },
  {
   "cell_type": "markdown",
   "metadata": {},
   "source": [
    "Using `rsample` (single threaded) is somewhat slower:"
   ]
  },
  {
   "cell_type": "code",
   "execution_count": 17,
   "metadata": {},
   "outputs": [
    {
     "data": {
      "text/plain": [
       "   user  system elapsed \n",
       " 32.114   0.070  32.361 "
      ]
     },
     "metadata": {},
     "output_type": "display_data"
    }
   ],
   "source": [
    "system.time(effrate_rs <- bootstraps(vacctrial, 10000, apparent=TRUE) %>% mutate(results=map(splits,effrate_est)))"
   ]
  },
  {
   "cell_type": "markdown",
   "metadata": {},
   "source": [
    "By default `boot` uses bootstrap replicates regression for BCa calculations. For large sample sizes this is quite slow and memory hungry."
   ]
  },
  {
   "cell_type": "code",
   "execution_count": 18,
   "metadata": {},
   "outputs": [
    {
     "data": {
      "text/plain": [
       "   user  system elapsed \n",
       " 71.081   0.900  73.129 "
      ]
     },
     "metadata": {},
     "output_type": "display_data"
    },
    {
     "data": {
      "text/plain": [
       "BOOTSTRAP CONFIDENCE INTERVAL CALCULATIONS\n",
       "Based on 10000 bootstrap replicates\n",
       "\n",
       "CALL : \n",
       "boot.ci(boot.out = boot.risk.10000, type = \"bca\")\n",
       "\n",
       "Intervals : \n",
       "Level       BCa          \n",
       "95%   ( 0.8140,  0.9574 )  \n",
       "Calculations and Intervals on Original Scale"
      ]
     },
     "metadata": {},
     "output_type": "display_data"
    }
   ],
   "source": [
    "system.time(vacctrial_ci <- boot.ci(boot.risk.10000,type=\"bca\"))\n",
    "vacctrial_ci"
   ]
  },
  {
   "cell_type": "markdown",
   "metadata": {},
   "source": [
    "Here again `rsample` Jacknife for BCa calculations is faster:"
   ]
  },
  {
   "cell_type": "code",
   "execution_count": 19,
   "metadata": {},
   "outputs": [
    {
     "data": {
      "text/plain": [
       "   user  system elapsed \n",
       "  7.864   0.077   8.112 "
      ]
     },
     "metadata": {},
     "output_type": "display_data"
    },
    {
     "data": {
      "text/html": [
       "<table>\n",
       "<caption>A tibble: 1 x 6</caption>\n",
       "<thead>\n",
       "\t<tr><th scope=col>term</th><th scope=col>.lower</th><th scope=col>.estimate</th><th scope=col>.upper</th><th scope=col>.alpha</th><th scope=col>.method</th></tr>\n",
       "\t<tr><th scope=col>&lt;chr&gt;</th><th scope=col>&lt;dbl&gt;</th><th scope=col>&lt;dbl&gt;</th><th scope=col>&lt;dbl&gt;</th><th scope=col>&lt;dbl&gt;</th><th scope=col>&lt;chr&gt;</th></tr>\n",
       "</thead>\n",
       "<tbody>\n",
       "\t<tr><td>eff</td><td>0.8163446</td><td>0.9060265</td><td>0.9589057</td><td>0.05</td><td>BCa</td></tr>\n",
       "</tbody>\n",
       "</table>\n"
      ],
      "text/latex": [
       "A tibble: 1 x 6\n",
       "\\begin{tabular}{r|llllll}\n",
       " term & .lower & .estimate & .upper & .alpha & .method\\\\\n",
       " <chr> & <dbl> & <dbl> & <dbl> & <dbl> & <chr>\\\\\n",
       "\\hline\n",
       "\t eff & 0.8163446 & 0.9060265 & 0.9589057 & 0.05 & BCa\\\\\n",
       "\\end{tabular}\n"
      ],
      "text/markdown": [
       "\n",
       "A tibble: 1 x 6\n",
       "\n",
       "| term &lt;chr&gt; | .lower &lt;dbl&gt; | .estimate &lt;dbl&gt; | .upper &lt;dbl&gt; | .alpha &lt;dbl&gt; | .method &lt;chr&gt; |\n",
       "|---|---|---|---|---|---|\n",
       "| eff | 0.8163446 | 0.9060265 | 0.9589057 | 0.05 | BCa |\n",
       "\n"
      ],
      "text/plain": [
       "  term .lower    .estimate .upper    .alpha .method\n",
       "1 eff  0.8163446 0.9060265 0.9589057 0.05   BCa    "
      ]
     },
     "metadata": {},
     "output_type": "display_data"
    }
   ],
   "source": [
    "system.time(eff_bca<-int_bca(effrate_rs,results, .fn=effrate_est))\n",
    "eff_bca"
   ]
  },
  {
   "cell_type": "markdown",
   "metadata": {},
   "source": [
    "But `boot` Jacknife for the influence estimates is also fast:"
   ]
  },
  {
   "cell_type": "code",
   "execution_count": 20,
   "metadata": {},
   "outputs": [
    {
     "data": {
      "text/plain": [
       "   user  system elapsed \n",
       "  0.747   0.046   0.810 "
      ]
     },
     "metadata": {},
     "output_type": "display_data"
    },
    {
     "data": {
      "text/plain": [
       "BOOTSTRAP CONFIDENCE INTERVAL CALCULATIONS\n",
       "Based on 10000 bootstrap replicates\n",
       "\n",
       "CALL : \n",
       "boot.ci(boot.out = boot.out, type = type, L = empinf(boot.out = boot.out, \n",
       "    type = \"jack\"))\n",
       "\n",
       "Intervals : \n",
       "Level       BCa          \n",
       "95%   ( 0.8140,  0.9574 )  \n",
       "Calculations and Intervals on Original Scale"
      ]
     },
     "metadata": {},
     "output_type": "display_data"
    }
   ],
   "source": [
    "system.time(vacctrial_ci_jack <- boot.ci.jack(boot.risk.10000))\n",
    "vacctrial_ci_jack"
   ]
  },
  {
   "cell_type": "code",
   "execution_count": 21,
   "metadata": {},
   "outputs": [
    {
     "data": {
      "text/plain": [
       "       group\n",
       "outcome     0     1\n",
       "      0 13914 13992\n",
       "      1    86     8"
      ]
     },
     "metadata": {},
     "output_type": "display_data"
    }
   ],
   "source": [
    "vacctrialbig <- data.frame(outcome=c(rep(1,inf.plac),rep(0,armsize-inf.plac),rep(1,inf.vacc),rep(0,armsize-inf.vacc)), group=c(rep(0,armsize),rep(1,armsize)))\n",
    "table(vacctrialbig)"
   ]
  },
  {
   "cell_type": "markdown",
   "metadata": {},
   "source": [
    "It's feasible to bootstrap the larger sample size"
   ]
  },
  {
   "cell_type": "code",
   "execution_count": 22,
   "metadata": {},
   "outputs": [
    {
     "data": {
      "text/plain": [
       "   user  system elapsed \n",
       "355.992   1.096 360.983 "
      ]
     },
     "metadata": {},
     "output_type": "display_data"
    }
   ],
   "source": [
    "system.time(effratebig_rs <- bootstraps(vacctrialbig, 10000, apparent=TRUE) %>% mutate(results=map(splits,effrate_est)))"
   ]
  },
  {
   "cell_type": "markdown",
   "metadata": {},
   "source": [
    "But I'm not going to run the confidence interval. Because of the Jacknife it requires more calculations than the actual bootstrap, and has larger memory requirements than the equivalent (Jacknife calculation) with `boot`."
   ]
  },
  {
   "cell_type": "code",
   "execution_count": 23,
   "metadata": {},
   "outputs": [],
   "source": [
    "## memory hungry\n",
    "#system.time(effbig_bca<-int_bca(effratebig_rs,results, .fn=effrate_est))\n",
    "#effbig_bca"
   ]
  },
  {
   "cell_type": "markdown",
   "metadata": {},
   "source": [
    "You can do parallel processing, but it is a little more involved. You need to know what the appropriate plan is for your system (on Linux, multisession) and drop in a parallel version of `map`."
   ]
  },
  {
   "cell_type": "code",
   "execution_count": 24,
   "metadata": {},
   "outputs": [
    {
     "name": "stderr",
     "output_type": "stream",
     "text": [
      "Loading required package: future\n",
      "\n"
     ]
    }
   ],
   "source": [
    "library(furrr)"
   ]
  },
  {
   "cell_type": "code",
   "execution_count": 25,
   "metadata": {},
   "outputs": [
    {
     "data": {
      "text/plain": [
       "   user  system elapsed \n",
       " 10.718   0.266  33.554 "
      ]
     },
     "metadata": {},
     "output_type": "display_data"
    }
   ],
   "source": [
    "plan(multisession, workers=2)\n",
    "system.time(effrate_rs_par <- bootstraps(vacctrial, 10000, apparent=TRUE) %>% mutate(results=future_map(splits,effrate_est)))"
   ]
  },
  {
   "cell_type": "code",
   "execution_count": 26,
   "metadata": {},
   "outputs": [
    {
     "data": {
      "text/plain": [
       "   user  system elapsed \n",
       "  2.292   0.063   4.748 "
      ]
     },
     "metadata": {},
     "output_type": "display_data"
    },
    {
     "data": {
      "text/html": [
       "<table>\n",
       "<caption>A tibble: 1 x 6</caption>\n",
       "<thead>\n",
       "\t<tr><th scope=col>term</th><th scope=col>.lower</th><th scope=col>.estimate</th><th scope=col>.upper</th><th scope=col>.alpha</th><th scope=col>.method</th></tr>\n",
       "\t<tr><th scope=col>&lt;chr&gt;</th><th scope=col>&lt;dbl&gt;</th><th scope=col>&lt;dbl&gt;</th><th scope=col>&lt;dbl&gt;</th><th scope=col>&lt;dbl&gt;</th><th scope=col>&lt;chr&gt;</th></tr>\n",
       "</thead>\n",
       "<tbody>\n",
       "\t<tr><td>eff</td><td>0.8136158</td><td>0.9065003</td><td>0.9588523</td><td>0.05</td><td>BCa</td></tr>\n",
       "</tbody>\n",
       "</table>\n"
      ],
      "text/latex": [
       "A tibble: 1 x 6\n",
       "\\begin{tabular}{r|llllll}\n",
       " term & .lower & .estimate & .upper & .alpha & .method\\\\\n",
       " <chr> & <dbl> & <dbl> & <dbl> & <dbl> & <chr>\\\\\n",
       "\\hline\n",
       "\t eff & 0.8136158 & 0.9065003 & 0.9588523 & 0.05 & BCa\\\\\n",
       "\\end{tabular}\n"
      ],
      "text/markdown": [
       "\n",
       "A tibble: 1 x 6\n",
       "\n",
       "| term &lt;chr&gt; | .lower &lt;dbl&gt; | .estimate &lt;dbl&gt; | .upper &lt;dbl&gt; | .alpha &lt;dbl&gt; | .method &lt;chr&gt; |\n",
       "|---|---|---|---|---|---|\n",
       "| eff | 0.8136158 | 0.9065003 | 0.9588523 | 0.05 | BCa |\n",
       "\n"
      ],
      "text/plain": [
       "  term .lower    .estimate .upper    .alpha .method\n",
       "1 eff  0.8136158 0.9065003 0.9588523 0.05   BCa    "
      ]
     },
     "metadata": {},
     "output_type": "display_data"
    }
   ],
   "source": [
    "system.time(eff_par_bca<-int_bca(effrate_rs_par,results, .fn=effrate_est))\n",
    "eff_par_bca"
   ]
  },
  {
   "cell_type": "code",
   "execution_count": 27,
   "metadata": {},
   "outputs": [],
   "source": [
    "## Might kill things\n",
    "#plan(multisession, workers=2)\n",
    "#system.time(effratebig_rs_par <- bootstraps(vacctrialbig, 10000, apparent=TRUE) %>% mutate(results=future_map(splits,effrate_est)))"
   ]
  },
  {
   "cell_type": "code",
   "execution_count": 28,
   "metadata": {},
   "outputs": [],
   "source": [
    "#system.time(effbig_par_bca<-int_bca(effratebig_rs_par,results, .fn=effrate_est))\n",
    "#effbig_bca"
   ]
  },
  {
   "cell_type": "code",
   "execution_count": null,
   "metadata": {},
   "outputs": [],
   "source": []
  }
 ],
 "metadata": {
  "kernelspec": {
   "display_name": "R",
   "language": "R",
   "name": "ir"
  },
  "language_info": {
   "codemirror_mode": "r",
   "file_extension": ".r",
   "mimetype": "text/x-r-source",
   "name": "R",
   "pygments_lexer": "r",
   "version": "3.6.3"
  }
 },
 "nbformat": 4,
 "nbformat_minor": 2
}
